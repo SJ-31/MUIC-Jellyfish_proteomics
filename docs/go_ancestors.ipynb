{
 "cells": [
  {
   "cell_type": "code",
   "execution_count": 6,
   "metadata": {},
   "outputs": [],
   "source": [
    "import polars as pl\n",
    "import matplotlib.pyplot as plt\n",
    "%matplotlib inline\n",
    "go_path = \"/home/shannc/Bio_SDD/MUIC_senior_project/workflow/data/reference/go.obo\"\n",
    "sample = \"/home/shannc/Bio_SDD/MUIC_senior_project/workflow/results/C_indra/1-First_pass/C_indra_all_wcoverage.tsv\"\n",
    "info_path = \"/home/shannc/Bio_SDD/MUIC_senior_project/workflow/results/C_indra/Analysis/all_go_info.tsv\"\n",
    "%run /home/shannc/Bio_SDD/MUIC_senior_project/workflow/bin/go_subset.py\n",
    "\n",
    "S = SubsetGO(go_path, sample, info_path)"
   ]
  },
  {
   "cell_type": "markdown",
   "metadata": {},
   "source": [
    "## Map GO terms by keywords"
   ]
  },
  {
   "cell_type": "code",
   "execution_count": 8,
   "metadata": {},
   "outputs": [
    {
     "data": {
      "text/html": [
       "<div><style>\n",
       ".dataframe > thead > tr,\n",
       ".dataframe > tbody > tr {\n",
       "  text-align: right;\n",
       "  white-space: pre-wrap;\n",
       "}\n",
       "</style>\n",
       "<small>shape: (8_728, 4)</small><table border=\"1\" class=\"dataframe\"><thead><tr><th>GO_IDs</th><th>term</th><th>definition</th><th>ontology</th></tr><tr><td>str</td><td>str</td><td>str</td><td>str</td></tr></thead><tbody><tr><td>&quot;GO:0006508&quot;</td><td>&quot;proteolysis&quot;</td><td>&quot;The hydrolysis of proteins int…</td><td>&quot;BP&quot;</td></tr><tr><td>&quot;GO:0004252&quot;</td><td>&quot;serine-type endopeptidase acti…</td><td>&quot;Catalysis of the hydrolysis of…</td><td>&quot;MF&quot;</td></tr><tr><td>&quot;GO:0005576&quot;</td><td>&quot;extracellular region&quot;</td><td>&quot;The space external to the oute…</td><td>&quot;CC&quot;</td></tr><tr><td>&quot;GO:1903292&quot;</td><td>&quot;protein localization to Golgi …</td><td>&quot;NA&quot;</td><td>&quot;BP&quot;</td></tr><tr><td>&quot;GO:0005802&quot;</td><td>&quot;trans-Golgi network&quot;</td><td>&quot;The network of interconnected …</td><td>&quot;CC&quot;</td></tr><tr><td>&hellip;</td><td>&hellip;</td><td>&hellip;</td><td>&hellip;</td></tr><tr><td>&quot;GO:1904171&quot;</td><td>&quot;negative regulation of bleb as…</td><td>&quot;NA&quot;</td><td>&quot;BP&quot;</td></tr><tr><td>&quot;GO:1905834&quot;</td><td>&quot;response to pyrimidine ribonuc…</td><td>&quot;NA&quot;</td><td>&quot;BP&quot;</td></tr><tr><td>&quot;GO:1905835&quot;</td><td>&quot;cellular response to pyrimidin…</td><td>&quot;NA&quot;</td><td>&quot;BP&quot;</td></tr><tr><td>&quot;GO:1905836&quot;</td><td>&quot;response to triterpenoid&quot;</td><td>&quot;NA&quot;</td><td>&quot;BP&quot;</td></tr><tr><td>&quot;GO:1905837&quot;</td><td>&quot;cellular response to triterpen…</td><td>&quot;NA&quot;</td><td>&quot;BP&quot;</td></tr></tbody></table></div>"
      ],
      "text/plain": [
       "shape: (8_728, 4)\n",
       "┌────────────┬─────────────────────────────────┬─────────────────────────────────┬──────────┐\n",
       "│ GO_IDs     ┆ term                            ┆ definition                      ┆ ontology │\n",
       "│ ---        ┆ ---                             ┆ ---                             ┆ ---      │\n",
       "│ str        ┆ str                             ┆ str                             ┆ str      │\n",
       "╞════════════╪═════════════════════════════════╪═════════════════════════════════╪══════════╡\n",
       "│ GO:0006508 ┆ proteolysis                     ┆ The hydrolysis of proteins int… ┆ BP       │\n",
       "│ GO:0004252 ┆ serine-type endopeptidase acti… ┆ Catalysis of the hydrolysis of… ┆ MF       │\n",
       "│ GO:0005576 ┆ extracellular region            ┆ The space external to the oute… ┆ CC       │\n",
       "│ GO:1903292 ┆ protein localization to Golgi … ┆ NA                              ┆ BP       │\n",
       "│ GO:0005802 ┆ trans-Golgi network             ┆ The network of interconnected … ┆ CC       │\n",
       "│ …          ┆ …                               ┆ …                               ┆ …        │\n",
       "│ GO:1904171 ┆ negative regulation of bleb as… ┆ NA                              ┆ BP       │\n",
       "│ GO:1905834 ┆ response to pyrimidine ribonuc… ┆ NA                              ┆ BP       │\n",
       "│ GO:1905835 ┆ cellular response to pyrimidin… ┆ NA                              ┆ BP       │\n",
       "│ GO:1905836 ┆ response to triterpenoid        ┆ NA                              ┆ BP       │\n",
       "│ GO:1905837 ┆ cellular response to triterpen… ┆ NA                              ┆ BP       │\n",
       "└────────────┴─────────────────────────────────┴─────────────────────────────────┴──────────┘"
      ]
     },
     "execution_count": 8,
     "metadata": {},
     "output_type": "execute_result"
    }
   ],
   "source": [
    "info = pl.read_csv(info_path, separator=\"\\t\")\n",
    "info"
   ]
  },
  {
   "cell_type": "code",
   "execution_count": 23,
   "metadata": {},
   "outputs": [
    {
     "data": {
      "text/plain": [
       "{'toxin': ['toxin', 'venom'], 'porin': ['porin', 'transporter']}"
      ]
     },
     "execution_count": 23,
     "metadata": {},
     "output_type": "execute_result"
    }
   ],
   "source": [
    "import json\n",
    "with open(\"/home/shannc/Bio_SDD/MUIC_senior_project/workflow/config/go_groups.json\", \"r\") as r:\n",
    "    custom = json.load(r)\n",
    "\n",
    "id2group = {}\n",
    "for group, members in custom.items():\n",
    "    for member in members:\n",
    "        id2group[member] = group\n",
    "\n",
    "# info.filter((pl.col(\"term\").str.contains_any(ex, ascii_case_insensitive = True)))\n",
    "\n"
   ]
  },
  {
   "cell_type": "code",
   "execution_count": null,
   "metadata": {},
   "outputs": [
    {
     "data": {
      "text/html": [
       "<div><style>\n",
       ".dataframe > thead > tr,\n",
       ".dataframe > tbody > tr {\n",
       "  text-align: right;\n",
       "  white-space: pre-wrap;\n",
       "}\n",
       "</style>\n",
       "<small>shape: (8_157, 7)</small><table border=\"1\" class=\"dataframe\"><thead><tr><th>GO_IDs</th><th>in_sample</th><th>n_children</th><th>level</th><th>term</th><th>definition</th><th>ontology</th></tr><tr><td>str</td><td>bool</td><td>i16</td><td>i16</td><td>str</td><td>str</td><td>str</td></tr></thead><tbody><tr><td>&quot;GO:0006508&quot;</td><td>true</td><td>15</td><td>5</td><td>&quot;proteolysis&quot;</td><td>&quot;The hydrolysis of proteins int…</td><td>&quot;BP&quot;</td></tr><tr><td>&quot;GO:0004252&quot;</td><td>true</td><td>0</td><td>5</td><td>&quot;serine-type endopeptidase acti…</td><td>&quot;Catalysis of the hydrolysis of…</td><td>&quot;MF&quot;</td></tr><tr><td>&quot;GO:0005576&quot;</td><td>true</td><td>1</td><td>2</td><td>&quot;extracellular region&quot;</td><td>&quot;The space external to the oute…</td><td>&quot;CC&quot;</td></tr><tr><td>&quot;GO:1903292&quot;</td><td>true</td><td>0</td><td>7</td><td>&quot;protein localization to Golgi …</td><td>&quot;NA&quot;</td><td>&quot;BP&quot;</td></tr><tr><td>&quot;GO:0005802&quot;</td><td>true</td><td>0</td><td>4</td><td>&quot;trans-Golgi network&quot;</td><td>&quot;The network of interconnected …</td><td>&quot;CC&quot;</td></tr><tr><td>&hellip;</td><td>&hellip;</td><td>&hellip;</td><td>&hellip;</td><td>&hellip;</td><td>&hellip;</td><td>&hellip;</td></tr><tr><td>&quot;GO:1904171&quot;</td><td>true</td><td>0</td><td>8</td><td>&quot;negative regulation of bleb as…</td><td>&quot;NA&quot;</td><td>&quot;BP&quot;</td></tr><tr><td>&quot;GO:1905834&quot;</td><td>true</td><td>0</td><td>5</td><td>&quot;response to pyrimidine ribonuc…</td><td>&quot;NA&quot;</td><td>&quot;BP&quot;</td></tr><tr><td>&quot;GO:1905835&quot;</td><td>true</td><td>0</td><td>6</td><td>&quot;cellular response to pyrimidin…</td><td>&quot;NA&quot;</td><td>&quot;BP&quot;</td></tr><tr><td>&quot;GO:1905836&quot;</td><td>true</td><td>0</td><td>5</td><td>&quot;response to triterpenoid&quot;</td><td>&quot;NA&quot;</td><td>&quot;BP&quot;</td></tr><tr><td>&quot;GO:1905837&quot;</td><td>true</td><td>0</td><td>6</td><td>&quot;cellular response to triterpen…</td><td>&quot;NA&quot;</td><td>&quot;BP&quot;</td></tr></tbody></table></div>"
      ],
      "text/plain": [
       "shape: (8_157, 7)\n",
       "┌────────────┬───────────┬────────────┬───────┬────────────────────┬────────────────────┬──────────┐\n",
       "│ GO_IDs     ┆ in_sample ┆ n_children ┆ level ┆ term               ┆ definition         ┆ ontology │\n",
       "│ ---        ┆ ---       ┆ ---        ┆ ---   ┆ ---                ┆ ---                ┆ ---      │\n",
       "│ str        ┆ bool      ┆ i16        ┆ i16   ┆ str                ┆ str                ┆ str      │\n",
       "╞════════════╪═══════════╪════════════╪═══════╪════════════════════╪════════════════════╪══════════╡\n",
       "│ GO:0006508 ┆ true      ┆ 15         ┆ 5     ┆ proteolysis        ┆ The hydrolysis of  ┆ BP       │\n",
       "│            ┆           ┆            ┆       ┆                    ┆ proteins int…      ┆          │\n",
       "│ GO:0004252 ┆ true      ┆ 0          ┆ 5     ┆ serine-type        ┆ Catalysis of the   ┆ MF       │\n",
       "│            ┆           ┆            ┆       ┆ endopeptidase      ┆ hydrolysis of…     ┆          │\n",
       "│            ┆           ┆            ┆       ┆ acti…              ┆                    ┆          │\n",
       "│ GO:0005576 ┆ true      ┆ 1          ┆ 2     ┆ extracellular      ┆ The space external ┆ CC       │\n",
       "│            ┆           ┆            ┆       ┆ region             ┆ to the oute…       ┆          │\n",
       "│ GO:1903292 ┆ true      ┆ 0          ┆ 7     ┆ protein            ┆ NA                 ┆ BP       │\n",
       "│            ┆           ┆            ┆       ┆ localization to    ┆                    ┆          │\n",
       "│            ┆           ┆            ┆       ┆ Golgi …            ┆                    ┆          │\n",
       "│ GO:0005802 ┆ true      ┆ 0          ┆ 4     ┆ trans-Golgi        ┆ The network of     ┆ CC       │\n",
       "│            ┆           ┆            ┆       ┆ network            ┆ interconnected …   ┆          │\n",
       "│ …          ┆ …         ┆ …          ┆ …     ┆ …                  ┆ …                  ┆ …        │\n",
       "│ GO:1904171 ┆ true      ┆ 0          ┆ 8     ┆ negative           ┆ NA                 ┆ BP       │\n",
       "│            ┆           ┆            ┆       ┆ regulation of bleb ┆                    ┆          │\n",
       "│            ┆           ┆            ┆       ┆ as…                ┆                    ┆          │\n",
       "│ GO:1905834 ┆ true      ┆ 0          ┆ 5     ┆ response to        ┆ NA                 ┆ BP       │\n",
       "│            ┆           ┆            ┆       ┆ pyrimidine         ┆                    ┆          │\n",
       "│            ┆           ┆            ┆       ┆ ribonuc…           ┆                    ┆          │\n",
       "│ GO:1905835 ┆ true      ┆ 0          ┆ 6     ┆ cellular response  ┆ NA                 ┆ BP       │\n",
       "│            ┆           ┆            ┆       ┆ to pyrimidin…      ┆                    ┆          │\n",
       "│ GO:1905836 ┆ true      ┆ 0          ┆ 5     ┆ response to        ┆ NA                 ┆ BP       │\n",
       "│            ┆           ┆            ┆       ┆ triterpenoid       ┆                    ┆          │\n",
       "│ GO:1905837 ┆ true      ┆ 0          ┆ 6     ┆ cellular response  ┆ NA                 ┆ BP       │\n",
       "│            ┆           ┆            ┆       ┆ to triterpen…      ┆                    ┆          │\n",
       "└────────────┴───────────┴────────────┴───────┴────────────────────┴────────────────────┴──────────┘"
      ]
     },
     "execution_count": 38,
     "metadata": {},
     "output_type": "execute_result"
    }
   ],
   "source": [
    "S.metadata"
   ]
  },
  {
   "cell_type": "code",
   "execution_count": null,
   "metadata": {},
   "outputs": [],
   "source": [
    "# Number of categories (roots) we want is based on the maximum number of colors available for visualization\n",
    "# 20 (using ggprism palette)\n",
    "n_categories = 20\n",
    "n_categories = n_categories - 2 # For uncategorized proteins, and for proteins that have annotation data above the root\n",
    "children_per_cat = S.metadata.shape[0]/n_categories\n",
    "# But GO terms above the chosen root will be ignored\n",
    "\n",
    "# Need to do this for each ontology\n"
   ]
  },
  {
   "cell_type": "code",
   "execution_count": null,
   "metadata": {},
   "outputs": [
    {
     "name": "stdout",
     "output_type": "stream",
     "text": [
      "shape: (18, 7)\n",
      "┌────────────┬───────────┬────────────┬───────┬────────────────────┬────────────────────┬──────────┐\n",
      "│ GO_IDs     ┆ in_sample ┆ n_children ┆ level ┆ term               ┆ definition         ┆ ontology │\n",
      "│ ---        ┆ ---       ┆ ---        ┆ ---   ┆ ---                ┆ ---                ┆ ---      │\n",
      "│ str        ┆ bool      ┆ i16        ┆ i16   ┆ str                ┆ str                ┆ str      │\n",
      "╞════════════╪═══════════╪════════════╪═══════╪════════════════════╪════════════════════╪══════════╡\n",
      "│ GO:0071840 ┆ true      ┆ 390        ┆ 2     ┆ cellular component ┆ A process that     ┆ BP       │\n",
      "│            ┆           ┆            ┆       ┆ organizatio…       ┆ results in the …   ┆          │\n",
      "│ GO:0044238 ┆ true      ┆ 346        ┆ 2     ┆ primary metabolic  ┆ The chemical       ┆ BP       │\n",
      "│            ┆           ┆            ┆       ┆ process            ┆ reactions and pat… ┆          │\n",
      "│ GO:0044237 ┆ true      ┆ 327        ┆ 2     ┆ cellular metabolic ┆ The chemical       ┆ BP       │\n",
      "│            ┆           ┆            ┆       ┆ process            ┆ reactions and pat… ┆          │\n",
      "│ GO:0048856 ┆ true      ┆ 285        ┆ 2     ┆ anatomical         ┆ The biological     ┆ BP       │\n",
      "│            ┆           ┆            ┆       ┆ structure          ┆ process whose s…   ┆          │\n",
      "│            ┆           ┆            ┆       ┆ developme…         ┆                    ┆          │\n",
      "│ GO:0051234 ┆ true      ┆ 250        ┆ 2     ┆ establishment of   ┆ Any process that   ┆ BP       │\n",
      "│            ┆           ┆            ┆       ┆ localization       ┆ localizes a s…     ┆          │\n",
      "│ …          ┆ …         ┆ …          ┆ …     ┆ …                  ┆ …                  ┆ …        │\n",
      "│ GO:0048869 ┆ true      ┆ 138        ┆ 2     ┆ cellular           ┆ A biological       ┆ BP       │\n",
      "│            ┆           ┆            ┆       ┆ developmental      ┆ process whose spe… ┆          │\n",
      "│            ┆           ┆            ┆       ┆ process            ┆                    ┆          │\n",
      "│ GO:0007165 ┆ true      ┆ 136        ┆ 2     ┆ signal             ┆ The cellular       ┆ BP       │\n",
      "│            ┆           ┆            ┆       ┆ transduction       ┆ process in which … ┆          │\n",
      "│ GO:0065009 ┆ true      ┆ 125        ┆ 2     ┆ regulation of      ┆ Any process that   ┆ BP       │\n",
      "│            ┆           ┆            ┆       ┆ molecular functi…  ┆ modulates the…     ┆          │\n",
      "│ GO:0002682 ┆ true      ┆ 111        ┆ 3     ┆ regulation of      ┆ Any process that   ┆ BP       │\n",
      "│            ┆           ┆            ┆       ┆ immune system pr…  ┆ modulates the…     ┆          │\n",
      "│ GO:0060255 ┆ true      ┆ 108        ┆ 4     ┆ regulation of      ┆ Any process that   ┆ BP       │\n",
      "│            ┆           ┆            ┆       ┆ macromolecule me…  ┆ modulates the…     ┆          │\n",
      "└────────────┴───────────┴────────────┴───────┴────────────────────┴────────────────────┴──────────┘\n",
      "['GO:0071840', 'GO:0044238', 'GO:0044237', 'GO:0048856', 'GO:0051234', 'GO:0071704', 'GO:0042221', 'GO:0009653', 'GO:0009889', 'GO:0010646', 'GO:0050793', 'GO:0032879', 'GO:0051128', 'GO:0048869', 'GO:0007165', 'GO:0065009', 'GO:0002682', 'GO:0060255']\n",
      "2417\n"
     ]
    }
   ],
   "source": [
    "bp = S.getRepresentatives(\"BP\", min_depth=2)\n",
    "print(len(bp[\"unassigned\"]))"
   ]
  },
  {
   "cell_type": "code",
   "execution_count": null,
   "metadata": {},
   "outputs": [
    {
     "name": "stdout",
     "output_type": "stream",
     "text": [
      "shape: (18, 7)\n",
      "┌────────────┬───────────┬────────────┬───────┬────────────────────┬────────────────────┬──────────┐\n",
      "│ GO_IDs     ┆ in_sample ┆ n_children ┆ level ┆ term               ┆ definition         ┆ ontology │\n",
      "│ ---        ┆ ---       ┆ ---        ┆ ---   ┆ ---                ┆ ---                ┆ ---      │\n",
      "│ str        ┆ bool      ┆ i16        ┆ i16   ┆ str                ┆ str                ┆ str      │\n",
      "╞════════════╪═══════════╪════════════╪═══════╪════════════════════╪════════════════════╪══════════╡\n",
      "│ GO:0005515 ┆ true      ┆ 195        ┆ 2     ┆ protein binding    ┆ Binding to a       ┆ MF       │\n",
      "│            ┆           ┆            ┆       ┆                    ┆ protein.           ┆          │\n",
      "│ GO:0016740 ┆ true      ┆ 162        ┆ 2     ┆ transferase        ┆ Catalysis of the   ┆ MF       │\n",
      "│            ┆           ┆            ┆       ┆ activity           ┆ transfer of a…     ┆          │\n",
      "│ GO:0016787 ┆ true      ┆ 153        ┆ 2     ┆ hydrolase activity ┆ Catalysis of the   ┆ MF       │\n",
      "│            ┆           ┆            ┆       ┆                    ┆ hydrolysis of…     ┆          │\n",
      "│ GO:0022857 ┆ true      ┆ 145        ┆ 2     ┆ transmembrane      ┆ Enables the        ┆ MF       │\n",
      "│            ┆           ┆            ┆       ┆ transporter acti…  ┆ transfer of a      ┆          │\n",
      "│            ┆           ┆            ┆       ┆                    ┆ subs…              ┆          │\n",
      "│ GO:0016491 ┆ true      ┆ 126        ┆ 2     ┆ oxidoreductase     ┆ Catalysis of an    ┆ MF       │\n",
      "│            ┆           ┆            ┆       ┆ activity           ┆ oxidation-redu…    ┆          │\n",
      "│ …          ┆ …         ┆ …          ┆ …     ┆ …                  ┆ …                  ┆ …        │\n",
      "│ GO:0044877 ┆ true      ┆ 14         ┆ 2     ┆ protein-containing ┆ Binding to a       ┆ MF       │\n",
      "│            ┆           ┆            ┆       ┆ complex bin…       ┆ macromolecular co… ┆          │\n",
      "│ GO:0030674 ┆ true      ┆ 9          ┆ 2     ┆ protein-macromolec ┆ The binding        ┆ MF       │\n",
      "│            ┆           ┆            ┆       ┆ ule adaptor …      ┆ activity of a      ┆          │\n",
      "│            ┆           ┆            ┆       ┆                    ┆ prot…              ┆          │\n",
      "│ GO:0004601 ┆ true      ┆ 7          ┆ 2     ┆ peroxidase         ┆ Catalysis of the   ┆ MF       │\n",
      "│            ┆           ┆            ┆       ┆ activity           ┆ reaction: a d…     ┆          │\n",
      "│ GO:0030246 ┆ true      ┆ 6          ┆ 2     ┆ carbohydrate       ┆ Binding to a       ┆ MF       │\n",
      "│            ┆           ┆            ┆       ┆ binding            ┆ carbohydrate, whi… ┆          │\n",
      "│ GO:0016247 ┆ true      ┆ 6          ┆ 3     ┆ channel regulator  ┆ Binds to and       ┆ MF       │\n",
      "│            ┆           ┆            ┆       ┆ activity           ┆ modulates the act… ┆          │\n",
      "└────────────┴───────────┴────────────┴───────┴────────────────────┴────────────────────┴──────────┘\n"
     ]
    }
   ],
   "source": [
    "mf = S.getCandidates(\"MF\")"
   ]
  },
  {
   "cell_type": "code",
   "execution_count": null,
   "metadata": {},
   "outputs": [
    {
     "name": "stdout",
     "output_type": "stream",
     "text": [
      "shape: (18, 7)\n",
      "┌────────────┬───────────┬────────────┬───────┬────────────────────┬────────────────────┬──────────┐\n",
      "│ GO_IDs     ┆ in_sample ┆ n_children ┆ level ┆ term               ┆ definition         ┆ ontology │\n",
      "│ ---        ┆ ---       ┆ ---        ┆ ---   ┆ ---                ┆ ---                ┆ ---      │\n",
      "│ str        ┆ bool      ┆ i16        ┆ i16   ┆ str                ┆ str                ┆ str      │\n",
      "╞════════════╪═══════════╪════════════╪═══════╪════════════════════╪════════════════════╪══════════╡\n",
      "│ GO:0043226 ┆ true      ┆ 129        ┆ 2     ┆ organelle          ┆ Organized          ┆ CC       │\n",
      "│            ┆           ┆            ┆       ┆                    ┆ structure of       ┆          │\n",
      "│            ┆           ┆            ┆       ┆                    ┆ distinc…           ┆          │\n",
      "│ GO:0016020 ┆ true      ┆ 83         ┆ 2     ┆ membrane           ┆ A lipid bilayer    ┆ CC       │\n",
      "│            ┆           ┆            ┆       ┆                    ┆ along with all…    ┆          │\n",
      "│ GO:0098796 ┆ true      ┆ 64         ┆ 2     ┆ membrane protein   ┆ Any protein        ┆ CC       │\n",
      "│            ┆           ┆            ┆       ┆ complex            ┆ complex that is    ┆          │\n",
      "│            ┆           ┆            ┆       ┆                    ┆ pa…                ┆          │\n",
      "│ GO:1902494 ┆ true      ┆ 49         ┆ 2     ┆ catalytic complex  ┆ NA                 ┆ CC       │\n",
      "│ GO:0042995 ┆ true      ┆ 26         ┆ 2     ┆ cell projection    ┆ A prolongation or  ┆ CC       │\n",
      "│            ┆           ┆            ┆       ┆                    ┆ process exte…      ┆          │\n",
      "│ …          ┆ …         ┆ …          ┆ …     ┆ …                  ┆ …                  ┆ …        │\n",
      "│ GO:0032993 ┆ true      ┆ 9          ┆ 2     ┆ protein-DNA        ┆ A macromolecular   ┆ CC       │\n",
      "│            ┆           ┆            ┆       ┆ complex            ┆ complex conta…     ┆          │\n",
      "│ GO:0070603 ┆ true      ┆ 8          ┆ 3     ┆ SWI/SNF            ┆ A protein complex  ┆ CC       │\n",
      "│            ┆           ┆            ┆       ┆ superfamily-type   ┆ that contain…      ┆          │\n",
      "│            ┆           ┆            ┆       ┆ compl…             ┆                    ┆          │\n",
      "│ GO:0000151 ┆ true      ┆ 7          ┆ 3     ┆ ubiquitin ligase   ┆ A protein complex  ┆ CC       │\n",
      "│            ┆           ┆            ┆       ┆ complex            ┆ that include…      ┆          │\n",
      "│ GO:0030312 ┆ true      ┆ 7          ┆ 2     ┆ external           ┆ A structure that   ┆ CC       │\n",
      "│            ┆           ┆            ┆       ┆ encapsulating      ┆ lies outside …     ┆          │\n",
      "│            ┆           ┆            ┆       ┆ structu…           ┆                    ┆          │\n",
      "│ GO:0098687 ┆ true      ┆ 6          ┆ 2     ┆ chromosomal region ┆ Any subdivision of ┆ CC       │\n",
      "│            ┆           ┆            ┆       ┆                    ┆ a chromosom…       ┆          │\n",
      "└────────────┴───────────┴────────────┴───────┴────────────────────┴────────────────────┴──────────┘\n",
      "shape: (18, 7)\n",
      "┌────────────┬───────────┬────────────┬───────┬────────────────────┬────────────────────┬──────────┐\n",
      "│ GO_IDs     ┆ in_sample ┆ n_children ┆ level ┆ term               ┆ definition         ┆ ontology │\n",
      "│ ---        ┆ ---       ┆ ---        ┆ ---   ┆ ---                ┆ ---                ┆ ---      │\n",
      "│ str        ┆ bool      ┆ i16        ┆ i16   ┆ str                ┆ str                ┆ str      │\n",
      "╞════════════╪═══════════╪════════════╪═══════╪════════════════════╪════════════════════╪══════════╡\n",
      "│ GO:0005515 ┆ true      ┆ 195        ┆ 2     ┆ protein binding    ┆ Binding to a       ┆ MF       │\n",
      "│            ┆           ┆            ┆       ┆                    ┆ protein.           ┆          │\n",
      "│ GO:0016740 ┆ true      ┆ 162        ┆ 2     ┆ transferase        ┆ Catalysis of the   ┆ MF       │\n",
      "│            ┆           ┆            ┆       ┆ activity           ┆ transfer of a…     ┆          │\n",
      "│ GO:0016787 ┆ true      ┆ 153        ┆ 2     ┆ hydrolase activity ┆ Catalysis of the   ┆ MF       │\n",
      "│            ┆           ┆            ┆       ┆                    ┆ hydrolysis of…     ┆          │\n",
      "│ GO:0022857 ┆ true      ┆ 145        ┆ 2     ┆ transmembrane      ┆ Enables the        ┆ MF       │\n",
      "│            ┆           ┆            ┆       ┆ transporter acti…  ┆ transfer of a      ┆          │\n",
      "│            ┆           ┆            ┆       ┆                    ┆ subs…              ┆          │\n",
      "│ GO:0016491 ┆ true      ┆ 126        ┆ 2     ┆ oxidoreductase     ┆ Catalysis of an    ┆ MF       │\n",
      "│            ┆           ┆            ┆       ┆ activity           ┆ oxidation-redu…    ┆          │\n",
      "│ …          ┆ …         ┆ …          ┆ …     ┆ …                  ┆ …                  ┆ …        │\n",
      "│ GO:0044877 ┆ true      ┆ 14         ┆ 2     ┆ protein-containing ┆ Binding to a       ┆ MF       │\n",
      "│            ┆           ┆            ┆       ┆ complex bin…       ┆ macromolecular co… ┆          │\n",
      "│ GO:0030674 ┆ true      ┆ 9          ┆ 2     ┆ protein-macromolec ┆ The binding        ┆ MF       │\n",
      "│            ┆           ┆            ┆       ┆ ule adaptor …      ┆ activity of a      ┆          │\n",
      "│            ┆           ┆            ┆       ┆                    ┆ prot…              ┆          │\n",
      "│ GO:0004601 ┆ true      ┆ 7          ┆ 2     ┆ peroxidase         ┆ Catalysis of the   ┆ MF       │\n",
      "│            ┆           ┆            ┆       ┆ activity           ┆ reaction: a d…     ┆          │\n",
      "│ GO:0030246 ┆ true      ┆ 6          ┆ 2     ┆ carbohydrate       ┆ Binding to a       ┆ MF       │\n",
      "│            ┆           ┆            ┆       ┆ binding            ┆ carbohydrate, whi… ┆          │\n",
      "│ GO:0016247 ┆ true      ┆ 6          ┆ 3     ┆ channel regulator  ┆ Binds to and       ┆ MF       │\n",
      "│            ┆           ┆            ┆       ┆ activity           ┆ modulates the act… ┆          │\n",
      "└────────────┴───────────┴────────────┴───────┴────────────────────┴────────────────────┴──────────┘\n"
     ]
    }
   ],
   "source": [
    "cc = S.getCandidates(\"CC\")"
   ]
  },
  {
   "cell_type": "code",
   "execution_count": null,
   "metadata": {},
   "outputs": [
    {
     "name": "stdout",
     "output_type": "stream",
     "text": [
      "['GO:0032991', 'GO:0043226', 'GO:0016020', 'GO:0042995', 'GO:0031974', 'GO:0030054', 'GO:0099080', 'GO:0018995', 'GO:0005737', 'GO:0098552', 'GO:0030312', 'GO:0098687', 'GO:0016604', 'GO:0031984', 'GO:0019898', 'GO:0005829', 'GO:0005622', 'GO:0045171']\n",
      "['GO:0051179', 'GO:0071840', 'GO:0044238', 'GO:0044237', 'GO:0048856', 'GO:0032501', 'GO:0071704', 'GO:0042221', 'GO:0009653', 'GO:0009889', 'GO:0010646', 'GO:0050793', 'GO:0032879', 'GO:0051128', 'GO:0048869', 'GO:0007165', 'GO:0065009', 'GO:0002682']\n",
      "['GO:0005488', 'GO:0016740', 'GO:0016787', 'GO:0005215', 'GO:0016491', 'GO:0098772', 'GO:0016874', 'GO:0016829', 'GO:0016853', 'GO:0060089', 'GO:0060090', 'GO:0016209', 'GO:0005198', 'GO:0140104', 'GO:0140110', 'GO:0032451', 'GO:0004386', 'GO:0003774']\n",
      "['GO:0043226', 'GO:0016020', 'GO:0098796', 'GO:1902494', 'GO:0042995', 'GO:0031974', 'GO:0030054', 'GO:1990904', 'GO:0099080', 'GO:0018995', 'GO:0005737', 'GO:0120114', 'GO:0098552', 'GO:0032993', 'GO:0070603', 'GO:0000151', 'GO:0030312', 'GO:0098687']\n",
      "['GO:0071840', 'GO:0044238', 'GO:0044237', 'GO:0048856', 'GO:0051234', 'GO:0071704', 'GO:0042221', 'GO:0009653', 'GO:0009889', 'GO:0010646', 'GO:0050793', 'GO:0032879', 'GO:0051128', 'GO:0048869', 'GO:0007165', 'GO:0065009', 'GO:0002682', 'GO:0060255']\n",
      "['GO:0005515', 'GO:0016740', 'GO:0016787', 'GO:0022857', 'GO:0016491', 'GO:0097159', 'GO:0030234', 'GO:0036094', 'GO:0016874', 'GO:0016829', 'GO:0016853', 'GO:0038023', 'GO:0008289', 'GO:0044877', 'GO:0030674', 'GO:0004601', 'GO:0030246', 'GO:0016247']\n",
      "['GO:0043227', 'GO:0031090', 'GO:0043228', 'GO:0043233', 'GO:0120025', 'GO:0098590', 'GO:1990234', 'GO:0070161', 'GO:0099081', 'GO:0033643', 'GO:1902495', 'GO:0070603', 'GO:0030532', 'GO:0045202', 'GO:0098562', 'GO:0000151', 'GO:0031248', 'GO:0005732']\n",
      "['GO:0016043', 'GO:0006810', 'GO:0009889', 'GO:0010646', 'GO:0050793', 'GO:0006793', 'GO:0032879', 'GO:0006139', 'GO:0043170', 'GO:0051128', 'GO:0010033', 'GO:0002682', 'GO:0060255', 'GO:0030154', 'GO:0051726', 'GO:0070727', 'GO:0051239', 'GO:0006520']\n",
      "['GO:0016788', 'GO:0003676', 'GO:0016772', 'GO:0015075', 'GO:0005102', 'GO:0016746', 'GO:0043167', 'GO:0019899', 'GO:0008233', 'GO:0016757', 'GO:0008092', 'GO:1901265', 'GO:0016614', 'GO:0016627', 'GO:0016741', 'GO:0016903', 'GO:0005342', 'GO:0019904']\n",
      "['GO:0043232', 'GO:0031982', 'GO:0043231', 'GO:0012506', 'GO:0070013', 'GO:0061695', 'GO:0099512', 'GO:0005911', 'GO:0043005', 'GO:0031253', 'GO:0098588', 'GO:0033646', 'GO:0005929', 'GO:0097525', 'GO:0034702', 'GO:0031983', 'GO:0000123', 'GO:0098858']\n",
      "['GO:0009889', 'GO:0010646', 'GO:0006796', 'GO:0051128', 'GO:0006996', 'GO:0090304', 'GO:0060255', 'GO:0051049', 'GO:0051726', 'GO:0008104', 'GO:0045595', 'GO:0022607', 'GO:0019538', 'GO:0071702', 'GO:0044057', 'GO:0042127', 'GO:0043436', 'GO:0080090']\n",
      "['GO:0003723', 'GO:0016301', 'GO:0000166', 'GO:0004518', 'GO:0008324', 'GO:0005216', 'GO:0016779', 'GO:0043169', 'GO:0042578', 'GO:0016747', 'GO:0008168', 'GO:0003677', 'GO:0016620', 'GO:0046943', 'GO:0052689', 'GO:0008483', 'GO:0004553', 'GO:0016616']\n",
      "['GO:0097708', 'GO:0030659', 'GO:0005773', 'GO:0005856', 'GO:0005694', 'GO:0099513', 'GO:0030880', 'GO:0035770', 'GO:0005634', 'GO:0034703', 'GO:0060205', 'GO:0005774', 'GO:0043292', 'GO:0005783', 'GO:0042579', 'GO:0031904', 'GO:0030425', 'GO:0005819']\n",
      "['GO:0031326', 'GO:0009966', 'GO:0006753', 'GO:0051246', 'GO:0016070', 'GO:0010564', 'GO:0019752', 'GO:0036211', 'GO:0033043', 'GO:0007010', 'GO:0031344', 'GO:0006259', 'GO:0065003', 'GO:0045184', 'GO:0032880', 'GO:0006812', 'GO:0033365', 'GO:0030334']\n",
      "['GO:0004672', 'GO:0046873', 'GO:0017076', 'GO:0046872', 'GO:0016791', 'GO:0004519', 'GO:0004527', 'GO:0005261', 'GO:0019787', 'GO:0008028', 'GO:0000976', 'GO:0016462', 'GO:0042626', 'GO:0019901', 'GO:0003727', 'GO:0008276', 'GO:0003690', 'GO:0008188']\n",
      "['GO:0031410', 'GO:0000323', 'GO:0000428', 'GO:0030667', 'GO:0005874', 'GO:0030658', 'GO:0036464', 'GO:0034774', 'GO:0010008', 'GO:0043073', 'GO:0000228', 'GO:0030662', 'GO:0030016', 'GO:0000803', 'GO:0098852', 'GO:0032156', 'GO:0034705', 'GO:0030660']\n",
      "['GO:0010556', 'GO:0031399', 'GO:0009117', 'GO:1902531', 'GO:0006396', 'GO:0030162', 'GO:0032787', 'GO:0000226', 'GO:0030001', 'GO:0019220', 'GO:0050804', 'GO:0010959', 'GO:0015031', 'GO:0009123', 'GO:0033044', 'GO:0006937', 'GO:0034660', 'GO:0009968']\n",
      "['GO:0046914', 'GO:0030554', 'GO:0004674', 'GO:0004521', 'GO:0015081', 'GO:0004713', 'GO:0019001', 'GO:0052742', 'GO:0005262', 'GO:0000977', 'GO:0046915', 'GO:0017111', 'GO:0004721', 'GO:0004842', 'GO:1990837', 'GO:0042162', 'GO:0004995', 'GO:0005254']\n",
      "['GO:0099503', 'GO:0005764', 'GO:0030135', 'GO:0005768', 'GO:0055029', 'GO:0005798', 'GO:0030133', 'GO:0005876', 'GO:0030139', 'GO:0001674', 'GO:0005765', 'GO:0030665', 'GO:0048770', 'GO:0099501', 'GO:0000932', 'GO:0008076', 'GO:0012507', 'GO:0000794']\n",
      "['GO:0010468', 'GO:0006163', 'GO:0001932', 'GO:0006631', 'GO:0010975', 'GO:1903320', 'GO:0007051', 'GO:0070647', 'GO:0035303', 'GO:0032204', 'GO:0120032', 'GO:0043408', 'GO:0052547', 'GO:0045862', 'GO:0009124', 'GO:0000041', 'GO:0006816', 'GO:0006886']\n",
      "['GO:0032559', 'GO:0032561', 'GO:0004714', 'GO:0016891', 'GO:0005506', 'GO:0005245', 'GO:0003924', 'GO:0005507', 'GO:0000978', 'GO:0005375', 'GO:0022839', 'GO:0008253', 'GO:0005388', 'GO:0004722', 'GO:0005391', 'GO:0004690', 'GO:0043047', 'GO:0008270']\n"
     ]
    },
    {
     "data": {
      "image/png": "[encoded data removed]",
      "text/plain": [
       "<Figure size 640x480 with 1 Axes>"
      ]
     },
     "metadata": {},
     "output_type": "display_data"
    }
   ],
   "source": [
    "depths = (1, 7)\n",
    "def numUnassigned(depth: int, ontology: str, subset: SubsetGO):\n",
    "    return len(subset.getRepresentatives(ontology, min_depth = depth, show=False)[\"unassigned\"])\n",
    "\n",
    "for i in range(1, 8):\n",
    "    for o, color in zip([\"CC\", \"BP\", \"MF\"], [\"r\", \"g\", \"b\"]):\n",
    "        num = numUnassigned(i, o, S)\n",
    "        plt.plot(i, num, \"x\", color=color, label=o)"
   ]
  }
 ],
 "metadata": {
  "kernelspec": {
   "display_name": "default",
   "language": "python",
   "name": "python3"
  },
  "language_info": {
   "codemirror_mode": {
    "name": "ipython",
    "version": 3
   },
   "file_extension": ".py",
   "mimetype": "text/x-python",
   "name": "python",
   "nbconvert_exporter": "python",
   "pygments_lexer": "ipython3",
   "version": "3.12.3"
  }
 },
 "nbformat": 4,
 "nbformat_minor": 2
}
