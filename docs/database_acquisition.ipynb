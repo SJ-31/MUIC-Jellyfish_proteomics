{
  "cells": [
    {
      "attachments": {},
      "cell_type": "markdown",
      "metadata": {},
      "source": [
        "## Databases from custom searches\n",
        "\n",
        "### NCBI \n",
        "- Search for venom proteins across all animals. The venom proteins of spiders and snakes have been identified before in *C. fleckeri*\n",
        "    - venom[All Fields] AND swissprot[filter] AND eukaryotes[filter] AND animals\n",
        "- Search for families of animal venom proteins\n",
        "    - `\"hemolysin\"[All Fields] OR \"pore-forming\"[All Fields] OR \"hemolysis\"[All Fields] OR \"pore-forming protein\"[All Fields] OR (\"metalloproteinase\"[All Fields] AND \"venom\"[All Fields]) AND animals[filter]`\n",
        "- Cnidarian proteins, from INSDC, PDB, RefSeq, PIR and PRF databases\n",
        "\n",
        "### UniProt\n",
        "- [Taxonomy search \"cnidarian\"](https://www.uniprot.org/uniprotkb?query=(taxonomy_id:6073))\n",
        "    - 309,513 results as of Mon 17 Apr, 2023, \n",
        "- Annotated venom and toxin proteins from the [Animal toxin annotation project](https://www.uniprot.org/uniprotkb?query=%28taxonomy_id%3A33208%29%20AND%20%28%28cc_tissue_specificity%3Avenom%29%20OR%20%28keyword%3AKW-0800%29%29%20AND%20%28reviewed%3Atrue%29)\n",
        "    - 7,736 results as of Mon 17 Apr, 2023\n"
      ]
    },
    {
      "attachments": {},
      "cell_type": "markdown",
      "metadata": {},
      "source": [
        "\n",
        "\n",
        "## De novo transcriptome assembly\n",
        "\n",
        "### Sources\n",
        "- *C. fleckeri* tentacle transcriptome (data used by @brinkmanTranscriptomeVenomProteom2015): https://www.ncbi.nlm.nih.gov/sra/?term=txid45396[Organism:noexp]\n",
        "    - Dataset acquired with SRA toolkit: `prefetch SRX891607`\n",
        "- *C. yamaguchii* tentacle transcriptome: https://www.ncbi.nlm.nih.gov/sra/SRX4928706[accn]\n",
        "    - Dataset acquired with SRA toolkit: `prefetch SRR8101946`\n",
        "\n",
        "Files were downloaded in `.sra` format, and were converted into `.fastq` using the `fasterq-dump` tool\n"
      ]
    },
    {
      "attachments": {},
      "cell_type": "markdown",
      "metadata": {},
      "source": [
        "\n",
        "#### Details of RNA-Seq\n",
        "\n",
        "##### *C. fleckeri* tentacles\n",
        "- Instrument: Illumina HiSeq 2000\n",
        "- Selection: unspecified\n",
        "- Layout: PAIRED\n",
        "\n",
        "**Design:** Tentacles were excised and immediately preserved in RNAlater (Life Technologies). Total RNA was isolated from the C. fleckeri tentacles of a single specimen using a handheld rotor-stator homogenizer (QIAgen) and TRIzol (Life Technologies), according to the manufacturer’s instructions. The RNA was DNase-treated, purified using a Nucleospin RNA II kit (Macherey-Nagel) and eluted in nuclease-free water. RNA purity, concentration and integrity were evaluated using a NanoDrop 2000 UV-Vis spectrophotometer and an Agilent 2100 Bioanalyzer with a RNA 6000 Pico kit. Purified RNA (5 μg; RIN 9.1) was submitted to the Ramaciotti Centre for Genomics (Sydney, Australia) for RNA-seq library construction and 100 bp paired-end sequencing on an Illumina HiSeq2000 sequencer.\n",
        "\n",
        "##### *C. yamaguchii* tentacles\n",
        "- Instrument: Illumina HiSeq 2500\n",
        "- Selection: RANDOM\n",
        "- Layout: PAIRED\n",
        "\n",
        "**Design:** Extracted RNA with Illumina TruSeq Stranded mRNA Sample Prep kit\n"
      ]
    },
    {
      "attachments": {},
      "cell_type": "markdown",
      "metadata": {},
      "source": [
        "\n",
        "### Initial quality checks\n",
        "Carried out with `fastqc` and aggregated with `multiqc`\n",
        "- `fastqc <filename>.fastq -o outputdirectory`\n",
        "    - Since we are dealing with paired end reads, `fastqc` will analyse the two .fastq files for each sample separately\n",
        "- (In directory with `fastqc` reports) `multiqc .`\n",
        "- `fasterq-dump` split the paired-end sra data into forward and reverse reads\n",
        "\n",
        "#### C. fleckeri\n",
        "- Per base sequence quality: passed, no median quality scores do not fall below FastQC threshold\n",
        "- Per sequence quality: passed, no spikes of low quality sequences\n",
        "- Per base sequence content: failed (rarely ever passes with RNA-seq)\n",
        "    - FastQC expects parallel lines i.e. a uniform distribution of bases across the read length. The base distribution across the first few bases are nonrandom (e.g. 50% of sequences have C as the first base), but this is to do with RNA-seq library prep methods\n",
        "    - No need to trim the first 10 bases\n",
        "- Overrepresented sequences: detected, but no hits against adapters\n",
        "\n",
        "#### C. yamaguchii\n",
        "- Per base sequence quality: passed, no median quality scores do not fall below FastQC threshold\n",
        "- Per sequence quality: passed, no spikes of low quality sequences\n",
        "- Per base sequence content: failed (rarely ever passes with RNA-seq)\n",
        "    - Same protocol as above\n",
        "- Overrepresented sequences: none\n",
        "\n",
        "###### References\n",
        "[Dr Simon Cockell's youtube channel](https://www.youtube.com/watch?v=FhyOYN_PWh8)\n"
      ]
    },
    {
      "attachments": {},
      "cell_type": "markdown",
      "metadata": {},
      "source": [
        "\n",
        "### Quality control and filtering\n"
      ]
    },
    {
      "attachments": {},
      "cell_type": "markdown",
      "metadata": {},
      "source": [
        "#### Adapter trimming with `fastp`\n",
        "```\n",
        "fastp -i <forwardRead> -I <reverseRead> --detect_adapter_for_pe -c -o <forwardoutput> -O <reverseoutput> -l 50\n",
        "```\n",
        "**Flag** info\n",
        "- `-Q` disables quality filtering (for now)\n",
        "- Adapters and poly A are automatically trimmed (even for PE data) and `fastp`\n",
        "    - `--detect_adapter_for_pe` tells `fastp` to look for adapters in PE data\n",
        "- `-c` enables overlap analysis for PE data, where `fastp` tries to correct mismatched base pairs between overlapping regions (prioritizing the base with the higher quality)\n",
        "    - Adjustable parameters\n",
        "        - `overlap_len_require` (default is 30)\n",
        "        - `overlap_diff_limit` (default is 5)\n",
        "        - `overlap_diff_percent_limit` (default is 20%)\n",
        "- `-l` Sets the length that determines which reads are discarded (anything shorter than -l). Chose 50\n",
        "\n",
        "**Code used**\n",
        "```{bash}\n",
        "fastp -i ~/data/raw/Cf_RNA/Cflec_1.fastq -I ~/data/raw/Cf_RNA/Cflec_2.fastq --detect_adapter_for_pe -c -o ~/data/RNA-seq/1-adapters_trimmed/Cf/Cf1_trim.fastq.gz -O ~/data/RNA-seq/1-adapters_trimmed/Cf/Cf2_trim.fastq.gz -l 50\n",
        "\n",
        "fastp -i ~/data/raw/Cy_RNA/Cyama_1.fastq -I ~/data/raw/Cy_RNA/Cyama_2.fastq --detect_adapter_for_pe -c -o ~/data/RNA-seq/1-adapters_trimmed/Cy/Cy1_trim.fastq.gz -O ~/data/RNA-seq/1-adapters_trimmed/Cy/Cy2_trim.fastq.gz -l 50\n",
        "```\n",
        "\n",
        "Report can be found in `~/data/RNA-seq/1-adapters_trimmed/`\n",
        "- 96% and 98.9% of Cf and Cy reads passed the filter respectively"
      ]
    },
    {
      "cell_type": "code",
      "execution_count": null,
      "metadata": {
        "vscode": {
          "languageId": "shellscript"
        }
      },
      "outputs": [],
      "source": [
        "# Stats summary\n",
        "seqkit stats $(find ~/data/raw/ -name \"*fastq*\") $(find ~/data/RNA-seq/1-adapters_trimmed -name \"*fastq*\") > raw_vs_adapters_filtered.txt"
      ]
    },
    {
      "attachments": {},
      "cell_type": "markdown",
      "metadata": {},
      "source": [
        "#### Filtering ncRNA with `bbduk`\n",
        "- Although RNA-seq library preparation enriches mRNA, there may still be some ncRNAs (especially rRNAs) present in the sample (need further citation for this)\n",
        "- These can be filtered using a database of ncRNAs as a reference \n",
        "    - Used a custom ncRNA database acquired from [RNA central](https://rnacentral.org/) with search `cnidaria AND so_rna_type_name:\"NcRNA\"` (47,056 seqs) Sat 22 Apr, 2023 \n",
        "    - The chosen tool is `bbduk`, which filters reads matching reference k-mers (generated from the database described above)\n",
        "        - To err on the side of caution and to reduce the chance of false positive matches (mRNA matching with ncRNA), will choose a k of 31 (the maximum k that `bbduk` supports)\n",
        "- An initial search with k = 31 filtered out 53.6 and 12.0% of the Cf and Cy reads respectively, with the most abundant ncRNA reads being rRNA as expected\n",
        "- Due to the rather high number of sequences filtered, will repeat the process but with two smaller databases: \n",
        "    - 1) only Cubozoan ncRNAs and \n",
        "    - 2) Only Chironex rRNA or mitochondrial sequences \n",
        "        - NCBI search: \"Chironex\" AND (\"rRNA\" OR \"mitochondrial\") \n",
        "        - RNACentral: (chironex* AND so_rna_type_name:\"RRNA\") AND entry_type:\"Sequence\" Sat 22 Apr, 2023 \n",
        "- Because of the large number of matches even with the smalleset database (Chironex seqs only), you should BLAST the overrepresented reads (from the initial checks with fastqc) just to see what is going on \n",
        "    - `blastn –db nt –query nt.fsa –out results.out`, where nt.fsa a FASTA file of the nucleotides you want to check against the database\n",
        "- Exact command\n",
        "- `blastn -db ~/data/reference/unwanted_seqs/Chironex_BLASTDB/Chironex_DB -query <query> -out <results>` "
      ]
    },
    {
      "cell_type": "code",
      "execution_count": null,
      "metadata": {
        "vscode": {
          "languageId": "shellscript"
        }
      },
      "outputs": [],
      "source": [
        "# Command structure\n",
        "bbduk.sh in1= in2= out1= out2= ref=<database> k=31 outm=detected_ncRNAs.fastq.gz stats=<report file>\n",
        "# k-mer filtering mode is the default"
      ]
    },
    {
      "cell_type": "code",
      "execution_count": null,
      "metadata": {
        "vscode": {
          "languageId": "shellscript"
        }
      },
      "outputs": [],
      "source": [
        "    # All Cnidarian search\n",
        "\n",
        "# C. fleckeri\n",
        "cd ~/data/RNA-seq/2-rRNA_filter/; bbduk.sh in1=~/data/RNA-seq/1-adapters_trimmed/Cf/Cf1_trim.fastq.gz in2=~/data/RNA-seq/1-adapters_trimmed/Cf/Cf2_trim.fastq.gz out1=All_Cnidaria/Cf/clean_Cf1.fastq.gz out2=All_Cnidaria/Cf/clean_Cf2.fastq.gz k=31 ref=~/data/reference/unwanted_seqs/RNACentral_ncRNAs.fasta outm=All_Cnidaria/Cf/detected_ncRNAs.fastq.gz stats=All_Cnidaria/Cf_stats.txt\n",
        "\n",
        "# C. yamaguchii\n",
        "cd ~/data/RNA-seq/2-rRNA_filter/; bbduk.sh in1=~/data/RNA-seq/1-adapters_trimmed/Cy/Cy1_trim.fastq.gz in2=~/data/RNA-seq/1-adapters_trimmed/Cy/Cy2_trim.fastq.gz out1=All_Cnidaria/Cy/clean_Cy1.fastq.gz out2=All_Cnidaria/Cy/clean_Cy2.fastq.gz k=31 ref=~/data/reference/unwanted_seqs/RNACentral_ncRNAs.fasta outm=All_Cnidaria/Cy/detected_ncRNAs.fastq.gz stats=All_Cnidaria/Cy_stats.txt\n",
        "\n",
        "    # Cubozoan only search\n",
        "\n",
        "# C. fleckeri\n",
        "cd ~/data/RNA-seq/2-rRNA_filter/; bbduk.sh in1=~/data/RNA-seq/1-adapters_trimmed/Cf/Cf1_trim.fastq.gz in2=~/data/RNA-seq/1-adapters_trimmed/Cf/Cf2_trim.fastq.gz out1=Cubozoa_only/Cf/clean_Cf1.fastq.gz out2=Cubozoa_only/Cf/clean_Cf2.fastq.gz k=31 ref=~/data/reference/unwanted_seqs/Cubozoa_only.fasta.gz outm=Cubozoa_only/Cf/detected_ncRNAs.fastq.gz stats=Cubozoa_only/Cf_stats.txt\n",
        "\n",
        "# C. yamaguchii\n",
        "cd ~/data/RNA-seq/2-rRNA_filter/; bbduk.sh in1=~/data/RNA-seq/1-adapters_trimmed/Cy/Cy1_trim.fastq.gz in2=~/data/RNA-seq/1-adapters_trimmed/Cy/Cy2_trim.fastq.gz out1=Cubozoa_only/Cy/clean_Cy1.fastq.gz out2=Cubozoa_only/Cy/clean_Cy2.fastq.gz k=31 ref=~/data/reference/unwanted_seqs/Cubozoa_only.fasta.gz outm=Cubozoa_only/Cy/detected_ncRNAs.fastq.gz stats=Cubozoa_only/Cy_stats.txt\n",
        "\n",
        "    # Only Chironex\n",
        "\n",
        "# C. fleckeri\n",
        "cd ~/data/RNA-seq/2-rRNA_filter/; bbduk.sh in1=~/data/RNA-seq/1-adapters_trimmed/Cf/Cf1_trim.fastq.gz in2=~/data/RNA-seq/1-adapters_trimmed/Cf/Cf2_trim.fastq.gz out1=Chironex_only/Cf/clean_Cf1.fastq.gz out2=Chironex_only/Cf/clean_Cf2.fastq.gz k=31 ref=~/data/reference/unwanted_seqs/Chironex_only.fasta outm=Chironex_only/Cf/detected_ncRNAs.fastq.gz stats=Chironex_only/Cf_stats.txt\n",
        "\n",
        "# C. yamaguchii\n",
        "cd ~/data/RNA-seq/2-rRNA_filter/; bbduk.sh in1=~/data/RNA-seq/1-adapters_trimmed/Cy/Cy1_trim.fastq.gz in2=~/data/RNA-seq/1-adapters_trimmed/Cy/Cy2_trim.fastq.gz out1=Chironex_only/Cy/clean_Cy1.fastq.gz out2=Chironex_only/Cy/clean_Cy2.fastq.gz k=31 ref=~/data/reference/unwanted_seqs/Chironex_only.fasta outm=Chironex_only/Cy/detected_ncRNAs.fastq.gz stats=Chironex_only/Cy_stats.txt"
      ]
    },
    {
      "cell_type": "code",
      "execution_count": null,
      "metadata": {
        "vscode": {
          "languageId": "shellscript"
        }
      },
      "outputs": [],
      "source": [
        "# Fastqc analysis of rRNA-cleaned sequences\n",
        "    # All Cnidarian-filtered\n",
        "cd ~/data/shannc/RNA-seq/2-rRNA_filter/All_Cnidaria; fastqc $(find -name \"*clean*\" | find -name \"*.fastq.gz\") -o ~/data/RNA-seq/2-rRNA-filter --extract"
      ]
    },
    {
      "attachments": {},
      "cell_type": "markdown",
      "metadata": {},
      "source": [
        "#### Filtering ncRNA with `sortmerna`"
      ]
    },
    {
      "cell_type": "code",
      "execution_count": null,
      "metadata": {
        "vscode": {
          "languageId": "shellscript"
        }
      },
      "outputs": [],
      "source": [
        "    # All Cnidarian search\n",
        "\n",
        "# C. fleckeri\n",
        "cd ~/data/RNA-seq/2-rRNA_filter/; sortmerna --reads ~/data/RNA-seq/1-adapters_trimmed/Cf/Cf1_trim.fastq.gz --reads ~/data/RNA-seq/1-adapters_trimmed/Cf/Cf2_trim.fastq.gz --workdir All_Cnidaria/Cf/sortmerna --ref ~/data/reference/unwanted_seqs/RNACentral_ncRNAs.fasta\n",
        "\n",
        "# C. yamaguchii\n",
        "cd ~/data/RNA-seq/2-rRNA_filter/; sortmerna --reads ~/data/RNA-seq/1-adapters_trimmed/Cy/Cy1_trim.fastq.gz --reads ~/data/RNA-seq/1-adapters_trimmed/Cy/Cy2_trim.fastq.gz --workdir All_Cnidaria/Cy/sortmerna --ref ~/data/reference/unwanted_seqs/RNACentral_ncRNAs.fasta\n",
        "\n",
        "    # Cubozoan only search\n",
        "\n",
        "# C. fleckeri\n",
        "cd ~/data/RNA-seq/2-rRNA_filter/; sortmerna --reads ~/data/RNA-seq/1-adapters_trimmed/Cf/Cf1_trim.fastq.gz --reads ~/data/RNA-seq/1-adapters_trimmed/Cf/Cf2_trim.fastq.gz --workdir Cubozoa_only/Cf/sortmerna --ref ~/data/reference/unwanted_seqs/Cubozoa_only.fasta\n",
        "\n",
        "# C. yamaguchii\n",
        "cd ~/data/RNA-seq/2-rRNA_filter/; sortmerna --reads ~/data/RNA-seq/1-adapters_trimmed/Cy/Cy1_trim.fastq.gz --reads ~/data/RNA-seq/1-adapters_trimmed/Cy/Cy2_trim.fastq.gz --workdir Cubozoa_only/Cy/sortmerna --ref ~/data/reference/unwanted_seqs/Cubozoa_only.fasta\n",
        "\n",
        "    # Chironex only\n",
        "\n",
        "# C. fleckeri\n",
        "cd ~/data/RNA-seq/2-rRNA_filter/; sortmerna --reads ~/data/RNA-seq/1-adapters_trimmed/Cf/Cf1_trim.fastq.gz --reads ~/data/RNA-seq/1-adapters_trimmed/Cf/Cf2_trim.fastq.gz --workdir Chironex_only/Cf/sortmerna --ref ~/data/reference/unwanted_seqs/Chironex_only.fasta\n",
        "\n",
        "# C. yamaguchii\n",
        "cd ~/data/RNA-seq/2-rRNA_filter/; sortmerna --reads ~/data/RNA-seq/1-adapters_trimmed/Cy/Cy1_trim.fastq.gz --reads ~/data/RNA-seq/1-adapters_trimmed/Cy/Cy2_trim.fastq.gz --workdir Chironex_only/Cy/sortmerna --ref ~/data/reference/unwanted_seqs/Chironex_only.fasta"
      ]
    },
    {
      "attachments": {},
      "cell_type": "markdown",
      "metadata": {},
      "source": [
        "#### Filtering prokaryotic RNA with `kraken2`\n",
        "If you ever do get around to filtering for this, [this](https://academic-oup-com.ejournal.mahidol.ac.th/femsec/article/92/5/fiw064/2470076#61529333) paper provides information about the nature of the Cnidarian holobiont"
      ]
    },
    {
      "attachments": {},
      "cell_type": "markdown",
      "metadata": {},
      "source": [
        "#### Normalization with `ORNA`\n",
        "A normalization step prior to assembly can reduce transcript redundancy, speeding up the assembly process and reducing the memory required. If you aren't concerned with memory, would this be necessary?  \n",
        "\n",
        "- Flag info\n",
        "    - `-kmer` the value of k for kmer size used in sorting. Devs recommend to using \"the smallest k-mer\" used in the debruijn graph assembler\n",
        "    - `-base` Represents the base of the $\\log$ function used to decide new k-mer abundance i.e. it determines the magnitude of the reduction. If the original k-mer abundance is 1000, and you choose base 10, the new abundance will be $\\log_{10} 1000 = 3$. \n",
        "        - Thus, higher base value, higher reduction. In their original analysis, base 1.7 was found to be a good compromise bewteen data reduction and little loss in assembly quality "
      ]
    },
    {
      "cell_type": "code",
      "execution_count": null,
      "metadata": {
        "vscode": {
          "languageId": "shellscript"
        }
      },
      "outputs": [],
      "source": [
        "# Normalization of rRNA-filtered data, in respective directories\n",
        "    # Cf\n",
        "ORNA -pair1 resources/RNA-seq/1-adapters_trimmed/Cf/Cf1_trim.fastq.gz -pair2 resources/RNA-seq/1-adapters_trimmed/Cf/Cf2_trim.fastq.gz  -output Cf_N -type fastq \n",
        "    # Cy\n",
        "ORNA -pair1 ~/data/RNA-seq/2-rRNA_filter/Cy/clean_Cy1.fastq.gz -pair2 ~/data/RNA-seq/2-rRNA_filter/Cy/clean_Cy1.fastq.gz  -output Cy_N -type fastq"
      ]
    },
    {
      "attachments": {},
      "cell_type": "markdown",
      "metadata": {},
      "source": [
        "### Assembly \n",
        "\n",
        "#### RNA spades\n",
        "- Flag info\n",
        "    - `-k` specifies k-mer size to use\n",
        "\n",
        "- Output info\n",
        "- SPAdes stores all output files in <output_dir> , which is set by the user.\n",
        "    - <output_dir>/corrected/ directory contains reads corrected by BayesHammer in *.fastq.gz files; if compression is disabled, reads are stored in uncompressed *.fastq files\n",
        "    - <output_dir>/scaffolds.fasta contains resulting scaffolds (recommended for use as resulting sequences)\n",
        "    - <output_dir>/contigs.fasta contains resulting contigs\n",
        "    - <output_dir>/assembly_graph_with_scaffolds.gfa contains SPAdes assembly graph and scaffolds paths in GFA 1.0 format\n",
        "    - <output_dir>/assembly_graph.fastg contains SPAdes assembly graph in FASTG format\n",
        "    - <output_dir>/contigs.paths contains paths in the assembly graph corresponding to contigs.fasta (see details below)\n",
        "    - <output_dir>/scaffolds.paths contains paths in the assembly graph corresponding to scaffolds.fasta (see details below)\n"
      ]
    },
    {
      "cell_type": "code",
      "execution_count": null,
      "metadata": {
        "vscode": {
          "languageId": "shellscript"
        }
      },
      "outputs": [],
      "source": [
        "# Assembly with only rRNA-filtering + adapter cleaning\n",
        "    # Cf\n",
        "rnaspades.py  -1 ~/data/RNA-seq/2-rRNA_filter/Cf/clean_Cf1.fastq.gz -2 ~/data/RNA-seq/2-rRNA_filter/Cf/clean_Cf2.fastq.gz -o ~/data/RNA-seq/4-assembly/Cf/1-2 -k\n",
        "    # Cy\n",
        "rnaspades.py  -1 ~/data/RNA-seq/2-rRNA_filter/Cy/clean_Cy1.fastq.gz -2 ~/data/RNA-seq/2-rRNA_filter/Cy/clean_Cy2.fastq.gz -o ~/data/RNA-seq/4-assembly/Cf/1-2 -k"
      ]
    },
    {
      "attachments": {},
      "cell_type": "markdown",
      "metadata": {},
      "source": [
        "#### Transabyss"
      ]
    },
    {
      "cell_type": "code",
      "execution_count": null,
      "metadata": {
        "vscode": {
          "languageId": "shellscript"
        }
      },
      "outputs": [],
      "source": [
        "# Assembly with only adapter cleaning\n",
        "    # Cf\n",
        "transabyss  --pe ~/data/RNA-seq/1-adapters_trimmed/Cf/Cf1_trim.fastq.gz --pe ~/data/RNA-seq/1-adapters_trimmed/Cf/Cf2_trim.fastq.gz --outdir ~/data/RNA-seq/4-assembly/Cf/1/transabyss --name 1-tabyss_Cf.fa\n",
        "\n",
        "    # Cy\n",
        "transabyss  --pe ~/data/RNA-seq/1-adapters_trimmed/Cy/Cy1_trim.fastq.gz --pe ~/data/RNA-seq/1-adapters_trimmed/Cy/Cy2_trim.fastq.gz --outdir ~/data/RNA-seq/4-assembly/Cy/1/transabyss --name 1-tabyss_Cy.fa"
      ]
    },
    {
      "cell_type": "code",
      "execution_count": null,
      "metadata": {
        "vscode": {
          "languageId": "shellscript"
        }
      },
      "outputs": [],
      "source": [
        "# Assembly with rRNA filtering + adapter cleaning\n",
        "    # Cf\n",
        "transabyss  --pe ~/data/RNA-seq/2-rRNA_filter/Cf/clean_Cf1.fastq.gz --pe ~/data/RNA-seq/2-rRNA_filter/Cf/clean_Cf2.fastq.gz --outdir ~/data/RNA-seq/4-assembly/Cf/1-2/transabyss --name 1-2-tabyss_Cf.fa\n",
        "\n",
        "    # Cy\n",
        "transabyss  --pe ~/data/RNA-seq/2-rRNA_filter/Cy/clean_Cy1.fastq.gz --pe ~/data/RNA-seq/2-rRNA_filter/Cy/clean_Cy2.fastq.gz --outdir ~/data/RNA-seq/4-assembly/Cy/1-2/transabyss --name 1-2-tabyss_Cf.fa"
      ]
    },
    {
      "attachments": {},
      "cell_type": "markdown",
      "metadata": {},
      "source": [
        "#### RNA bloom"
      ]
    },
    {
      "cell_type": "code",
      "execution_count": null,
      "metadata": {
        "vscode": {
          "languageId": "shellscript"
        }
      },
      "outputs": [],
      "source": [
        "# Assembly with only adapter cleaning\n",
        "    # Cf\n",
        "rnabloom  -left ~/data/RNA-seq/1-adapters_trimmed/Cf/Cf1_trim.fastq.gz -right ~/data/RNA-seq/1-adapters_trimmed/Cf/Cf2_trim.fastq.gz -outdir ~/data/RNA-seq/4-assembly/Cf/1/rnabloom -k 25\n",
        "\n",
        "    # Cy\n",
        "rnabloom  -left ~/data/RNA-seq/1-adapters_trimmed/Cy/Cy1_trim.fastq.gz -right ~/data/RNA-seq/1-adapters_trimmed/Cy/Cy2_trim.fastq.gz -outdir ~/data/RNA-seq/4-assembly/Cy/1/rnabloom "
      ]
    },
    {
      "cell_type": "code",
      "execution_count": null,
      "metadata": {
        "vscode": {
          "languageId": "shellscript"
        }
      },
      "outputs": [],
      "source": [
        "# Assembly with ncRNA filtering \n",
        "    # Cf\n",
        "rnabloom  -left ~/data/RNA-seq/2-rRNA_filter/Cf/clean_Cf1.fastq.gz -right ~/data/RNA-seq/2-rRNA_filter/Cf/clean_Cf2.fastq.gz -outdir ~/data/RNA-seq/4-assembly/Cf/1-2/rnabloom -k\n",
        "    # Cy\n",
        "rnabloom  -left ~/data/RNA-seq/2-rRNA_filter/Cy/clean_Cy1.fastq.gz -right ~/data/RNA-seq/2-rRNA_filter/Cy/clean_Cy2.fastq.gz -outdir ~/data/RNA-seq/4-assembly/Cy/1-2/rnabloom -k"
      ]
    },
    {
      "cell_type": "markdown",
      "metadata": {},
      "source": [
        "#### Run this to get quick stats on assembly"
      ]
    },
    {
      "cell_type": "code",
      "execution_count": null,
      "metadata": {
        "vscode": {
          "languageId": "shellscript"
        }
      },
      "outputs": [],
      "source": [
        "seqkit stats $(find /home/shannc/data/RNA-seq/4-assembly/ -maxdepth 3 -name *.fa) > /home/shannc/data/RNA-seq/4-assembly/assembly_stats.txt"
      ]
    },
    {
      "attachments": {},
      "cell_type": "markdown",
      "metadata": {},
      "source": [
        "### Post-assembly QC\n",
        "`BUSCO`, `seqkit`, `DOGMA`"
      ]
    },
    {
      "attachments": {},
      "cell_type": "markdown",
      "metadata": {},
      "source": [
        "#### `BUSCO` & `DOGMA`\n",
        "`BUSCO` assesses assembly quality by mapping the reads against highly conserved, well-expressed, orthologous genes that you would expect to find in good assembly. \n",
        "\n",
        "`DOGMA` has a similar function, but using protein domains instead"
      ]
    },
    {
      "cell_type": "code",
      "execution_count": 3,
      "metadata": {
        "vscode": {
          "languageId": "shellscript"
        }
      },
      "outputs": [
        {
          "ename": "SyntaxError",
          "evalue": "invalid syntax (2016770500.py, line 1)",
          "output_type": "error",
          "traceback": [
            "\u001b[0;36m  Cell \u001b[0;32mIn[3], line 1\u001b[0;36m\u001b[0m\n\u001b[0;31m    docker run -u $(id -u) -v /home/sc31/Bio_SDD/busco_QC busco -i 2-rbloom_Cf.fa -l metazoa_odb10 -o 2-rbloom_Cf_results -m transcriptome -w /home/sc31/Bio_SDD/busco_QC/busco_wd\u001b[0m\n\u001b[0m           ^\u001b[0m\n\u001b[0;31mSyntaxError\u001b[0m\u001b[0;31m:\u001b[0m invalid syntax\n"
          ]
        }
      ],
      "source": [
        "docker run -u $(id -u) -w /home/sc31/Bio_SDD/busco_QC/busco_wd -v /home/sc31/Bio_SDD/:/busco_QC ezlabgva/busco:v5.4.4_cv1 busco -i 2-rbloom_Cf.fa -l metazoa_odb10 -o 2-rbloom_Cf_results -m transcriptome \n",
        "\n",
        "docker run -u $(id -u) -w /home/sc31/bioinfo/busco_QC/busco_wd -v /home/sc31/bioinfo:/busco_QC ezlabgva/busco:v5.4.4_cv1 busco -i 1-rbloom_Cf.fa -l metazoa_odb10 -o 1-rbloom_Cf_results -m transcriptome "
      ]
    },
    {
      "attachments": {},
      "cell_type": "markdown",
      "metadata": {},
      "source": [
        "#### `DETONATE`\n",
        "The score obtained from `RSEM-EVAL` will help you decide which assembly is best. The short reads you pass to it should be the short reads passed to the assembler, so use the filtered reads.\n",
        "\n",
        "##### Usage\n",
        "- First argument specifies reads\n",
        "- Second specifies assembly"
      ]
    },
    {
      "cell_type": "code",
      "execution_count": null,
      "metadata": {
        "vscode": {
          "languageId": "shellscript"
        }
      },
      "outputs": [],
      "source": [
        "# Example evaluation for ncRNA-filtered C. fleckeri RNABloom assembly (2-rbloom_Cf.fa)\n",
        "rsem-eval-caculate-score ~/data/ ~/data/RNA-seq/4-assembly/Cf/1-2/2-rbloom_Cf.fa  # Incomplete!!!"
      ]
    },
    {
      "attachments": {},
      "cell_type": "markdown",
      "metadata": {},
      "source": [
        "#### `transrate`\n"
      ]
    },
    {
      "cell_type": "code",
      "execution_count": null,
      "metadata": {
        "vscode": {
          "languageId": "shellscript"
        }
      },
      "outputs": [],
      "source": [
        "# Check 1-2 Cf rbloom assembly\n",
        "cd ~/data/RNA-seq/4-assembly/; conda activate transrate; transrate --assembly Cf/1-2/2-rbloom_Cf.fa --left ~/data/raw/Cf_RNA/Cflec_1.fastq --right ~/data/raw/Cf_RNA/Cflec_1.fastq; conda deactivate; cd transrate\n",
        "# Check all Cy assemblies"
      ]
    },
    {
      "attachments": {},
      "cell_type": "markdown",
      "metadata": {},
      "source": [
        "### RNA classification\n",
        "\n",
        "Since you already filtered out many ncRNAs in the pre-assembly quality control, you probably don't need to do additional sequence classification (i.e. separating out rRNAs)."
      ]
    },
    {
      "attachments": {},
      "cell_type": "markdown",
      "metadata": {},
      "source": [
        "### Sequence translation\n",
        "Will use the ab initio predictor `TransDecoder` to obtain ORFs from the assembled transcripts"
      ]
    },
    {
      "cell_type": "code",
      "execution_count": null,
      "metadata": {
        "vscode": {
          "languageId": "shellscript"
        }
      },
      "outputs": [],
      "source": [
        "cd /home/shannc/data/RNA-seq/6-Translated/; for assembly in $(find /home/shannc/data/RNA-seq/4-assembly/ -maxdepth 3 -name *.fa); do TransDecoder.LongOrfs -t $assembly; done"
      ]
    }
  ],
  "metadata": {
    "kernelspec": {
      "display_name": "Python 3 (ipykernel)",
      "language": "python",
      "name": "python3"
    },
    "language_info": {
      "codemirror_mode": {
        "name": "ipython",
        "version": 3
      },
      "file_extension": ".py",
      "mimetype": "text/x-python",
      "name": "python",
      "nbconvert_exporter": "python",
      "pygments_lexer": "ipython3",
      "version": "3.11.3"
    }
  },
  "nbformat": 4,
  "nbformat_minor": 4
}
