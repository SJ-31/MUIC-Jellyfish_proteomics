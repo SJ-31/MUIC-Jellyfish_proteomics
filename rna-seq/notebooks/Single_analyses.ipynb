{
 "cells": [
  {
   "attachments": {},
   "cell_type": "markdown",
   "metadata": {},
   "source": [
    "# De novo\n"
   ]
  },
  {
   "attachments": {},
   "cell_type": "markdown",
   "metadata": {},
   "source": [
    "## SMS Net\n",
    "- Parameters\n",
    "    - `--model_dir`\n",
    "    - `--inference_input_file`\n",
    "    - `--rescore` To obtain the probabilities of each amino acid after rescoring "
   ]
  },
  {
   "cell_type": "code",
   "execution_count": null,
   "metadata": {
    "vscode": {
     "languageId": "shellscript"
    }
   },
   "outputs": [],
   "source": [
    "# Convert files to mgf\n",
    "mono ~/tools/ThermoRawFileParser/ThermoRawFileParser.exe -i=<filename> -o=/home/shannc/data/converted_raw/ -f=0\n"
   ]
  },
  {
   "cell_type": "code",
   "execution_count": 2,
   "metadata": {
    "vscode": {
     "languageId": "shellscript"
    }
   },
   "outputs": [
    {
     "name": "stdout",
     "output_type": "stream",
     "text": [
      "Traceback (most recent call last):\n",
      "  File \"/home/shannc/anaconda3/envs/SMSNet/lib/python3.5/site-packages/tensorflow/python/pywrap_tensorflow.py\", line 58, in <module>\n",
      "    from tensorflow.python.pywrap_tensorflow_internal import *\n",
      "  File \"/home/shannc/anaconda3/envs/SMSNet/lib/python3.5/site-packages/tensorflow/python/pywrap_tensorflow_internal.py\", line 28, in <module>\n",
      "    _pywrap_tensorflow_internal = swig_import_helper()\n",
      "  File \"/home/shannc/anaconda3/envs/SMSNet/lib/python3.5/site-packages/tensorflow/python/pywrap_tensorflow_internal.py\", line 24, in swig_import_helper\n",
      "    _mod = imp.load_module('_pywrap_tensorflow_internal', fp, pathname, description)\n",
      "  File \"/home/shannc/anaconda3/envs/SMSNet/lib/python3.5/imp.py\", line 243, in load_module\n",
      "    return load_dynamic(name, filename, file)\n",
      "  File \"/home/shannc/anaconda3/envs/SMSNet/lib/python3.5/imp.py\", line 343, in load_dynamic\n",
      "    return _load(spec)\n",
      "ImportError: libcudnn.so.7: cannot open shared object file: No such file or directory\n",
      "\n",
      "During handling of the above exception, another exception occurred:\n",
      "\n",
      "Traceback (most recent call last):\n",
      "  File \"/home/shannc/tools/SMSNet/run.py\", line 25, in <module>\n",
      "    import tensorflow as tf\n",
      "  File \"/home/shannc/anaconda3/envs/SMSNet/lib/python3.5/site-packages/tensorflow/__init__.py\", line 22, in <module>\n",
      "    from tensorflow.python import pywrap_tensorflow  # pylint: disable=unused-import\n",
      "  File \"/home/shannc/anaconda3/envs/SMSNet/lib/python3.5/site-packages/tensorflow/python/__init__.py\", line 49, in <module>\n",
      "    from tensorflow.python import pywrap_tensorflow\n",
      "  File \"/home/shannc/anaconda3/envs/SMSNet/lib/python3.5/site-packages/tensorflow/python/pywrap_tensorflow.py\", line 74, in <module>\n",
      "    raise ImportError(msg)\n",
      "ImportError: Traceback (most recent call last):\n",
      "  File \"/home/shannc/anaconda3/envs/SMSNet/lib/python3.5/site-packages/tensorflow/python/pywrap_tensorflow.py\", line 58, in <module>\n",
      "    from tensorflow.python.pywrap_tensorflow_internal import *\n",
      "  File \"/home/shannc/anaconda3/envs/SMSNet/lib/python3.5/site-packages/tensorflow/python/pywrap_tensorflow_internal.py\", line 28, in <module>\n",
      "    _pywrap_tensorflow_internal = swig_import_helper()\n",
      "  File \"/home/shannc/anaconda3/envs/SMSNet/lib/python3.5/site-packages/tensorflow/python/pywrap_tensorflow_internal.py\", line 24, in swig_import_helper\n",
      "    _mod = imp.load_module('_pywrap_tensorflow_internal', fp, pathname, description)\n",
      "  File \"/home/shannc/anaconda3/envs/SMSNet/lib/python3.5/imp.py\", line 243, in load_module\n",
      "    return load_dynamic(name, filename, file)\n",
      "  File \"/home/shannc/anaconda3/envs/SMSNet/lib/python3.5/imp.py\", line 343, in load_dynamic\n",
      "    return _load(spec)\n",
      "ImportError: libcudnn.so.7: cannot open shared object file: No such file or directory\n",
      "\n",
      "\n",
      "Failed to load the native TensorFlow runtime.\n",
      "\n",
      "See https://www.tensorflow.org/install/install_sources#common_installation_problems\n",
      "\n",
      "for some common reasons and solutions.  Include the entire stack trace\n",
      "above this error message when asking for help.\n"
     ]
    }
   ],
   "source": [
    "python ~/tools/SMSNet/run.py --model_dir ~/data/reference/SMS_training/ --inference_input_file ~/data/converted_raw/CiCs1.mgf --inference_output_file ~/data/processed/ --rescore"
   ]
  },
  {
   "attachments": {},
   "cell_type": "markdown",
   "metadata": {},
   "source": [
    "## DeepNovo2"
   ]
  },
  {
   "attachments": {},
   "cell_type": "markdown",
   "metadata": {},
   "source": [
    "## pNovo"
   ]
  },
  {
   "cell_type": "markdown",
   "metadata": {},
   "source": [
    "# Database search"
   ]
  },
  {
   "attachments": {},
   "cell_type": "markdown",
   "metadata": {},
   "source": [
    "## MaxQuant\n",
    "First, need to create a MaxQuant config file, then edit it with the desired parameters.\n",
    "- For now, you've used the paramters specified in the original manuscript "
   ]
  },
  {
   "cell_type": "code",
   "execution_count": null,
   "metadata": {
    "vscode": {
     "languageId": "shellscript"
    }
   },
   "outputs": [
    {
     "name": "stdout",
     "output_type": "stream",
     "text": [
      "No usable version of libssl was found\n"
     ]
    }
   ],
   "source": [
    "dotnet ~/tools/MaxQuant_v2.3.10/bin/MaxQuantCmd.exe --create mqpar.xml"
   ]
  },
  {
   "attachments": {},
   "cell_type": "markdown",
   "metadata": {},
   "source": [
    "### Setting up regex parsing\n",
    "MaxQuant uses C# sharp regex, you can test with this site: [regex101 build, test, and debug regex](https://regex101.com/)"
   ]
  },
  {
   "attachments": {},
   "cell_type": "markdown",
   "metadata": {},
   "source": [
    "#### Uniprot\n",
    "See FASTA headers [here](https://www.uniprot.org/help/fasta-headers)\n",
    "```xml\n",
    "<descriptionParseRule>\\|.*\\|(.*) OS</descriptionParseRule>\n",
    "<taxonomyParseRule>OS=(.*) OX</taxonomyParseRule>\n",
    "<variationParseRule></variationParseRule>\n",
    "<modificationParseRule></modificationParseRule>\n",
    "<taxonomyId>OX=(.*)GN|PE</taxonomyId>\n",
    "```"
   ]
  },
  {
   "attachments": {},
   "cell_type": "markdown",
   "metadata": {},
   "source": [
    "#### NCBI\n",
    "FASTA headers "
   ]
  },
  {
   "cell_type": "code",
   "execution_count": null,
   "metadata": {
    "vscode": {
     "languageId": "shellscript"
    }
   },
   "outputs": [
    {
     "ename": "",
     "evalue": "",
     "output_type": "error",
     "traceback": [
      "\u001b[1;31mThe kernel failed to start as the Python Environment 'R' is no longer available. Consider selecting another kernel or refreshing the list of Python Environments."
     ]
    }
   ],
   "source": [
    "dotnet ~/tools/MaxQuant_v2.3.1.0/bin/MaxQuantCmd.exe ~/code/mqpar.xml"
   ]
  },
  {
   "attachments": {},
   "cell_type": "markdown",
   "metadata": {},
   "source": [
    "## TagGraph"
   ]
  },
  {
   "attachments": {},
   "cell_type": "markdown",
   "metadata": {},
   "source": [
    "## MSFragger"
   ]
  },
  {
   "cell_type": "code",
   "execution_count": null,
   "metadata": {
    "vscode": {
     "languageId": "plaintext"
    }
   },
   "outputs": [],
   "source": [
    "MSFragger ~/code/MSFragger_params ~/"
   ]
  },
  {
   "attachments": {},
   "cell_type": "markdown",
   "metadata": {},
   "source": [
    "# Quality control"
   ]
  },
  {
   "attachments": {},
   "cell_type": "markdown",
   "metadata": {},
   "source": [
    "## Postnovo"
   ]
  },
  {
   "attachments": {},
   "cell_type": "markdown",
   "metadata": {},
   "source": [
    "## Percolator"
   ]
  }
 ],
 "metadata": {
  "kernelspec": {
   "display_name": "base",
   "language": "python",
   "name": "python3"
  },
  "language_info": {
   "codemirror_mode": {
    "name": "ipython",
    "version": 3
   },
   "file_extension": ".py",
   "mimetype": "text/x-python",
   "name": "python",
   "nbconvert_exporter": "python",
   "pygments_lexer": "ipython3",
   "version": "3.11.3"
  },
  "orig_nbformat": 4
 },
 "nbformat": 4,
 "nbformat_minor": 2
}
